{
 "cells": [
  {
   "cell_type": "markdown",
   "metadata": {},
   "source": [
    "## librerias"
   ]
  },
  {
   "cell_type": "code",
   "execution_count": 1,
   "metadata": {},
   "outputs": [],
   "source": [
    "import urllib.request\n",
    "import requests\n",
    "import sys                                                  # built in\n",
    "from bs4 import BeautifulSoup\n",
    "import pandas as pd\n",
    "from pandas.io.json import json_normalize\n",
    "import json                                                 # built in\n",
    "import ast                                                  # built in\n",
    "\n",
    "\n",
    "import time\n",
    "\n",
    "import pandas as pd\n",
    "\n",
    "from multiprocessing import Pool\n",
    "\n",
    "import os"
   ]
  },
  {
   "cell_type": "code",
   "execution_count": 2,
   "metadata": {},
   "outputs": [],
   "source": [
    "from selenium import webdriver\n",
    "from selenium.webdriver.chrome.options import Options\n",
    "from selenium.webdriver import ActionChains\n",
    "\n",
    "from selenium.webdriver.support.ui import WebDriverWait\n",
    "from selenium.webdriver.support import expected_conditions as EC\n",
    "from selenium.webdriver.common.by import By\n",
    "\n",
    "\n",
    "# set options to be headless, ..\n",
    "\n",
    "options = Options()\n",
    "options.add_argument('--blink-settings=imagesEnabled=false')\n",
    "\n",
    "#options.add_argument('--headless')\n",
    "#options.add_argument('--no-sandbox')\n",
    "#options.add_argument('--disable-dev-shm-usage')\n",
    "\n",
    "# abc\n"
   ]
  },
  {
   "cell_type": "markdown",
   "metadata": {},
   "source": [
    "## codigo driver get url\n"
   ]
  },
  {
   "cell_type": "code",
   "execution_count": 31,
   "metadata": {},
   "outputs": [],
   "source": [
    "# pagina de busqueda\n",
    "\n",
    "url_air = 'https://casadeplaya.com/busquedas'\n",
    "\n"
   ]
  },
  {
   "cell_type": "code",
   "execution_count": 32,
   "metadata": {},
   "outputs": [],
   "source": [
    "driver = webdriver.Chrome(executable_path=r\"C:\\chromedriver_win32\\chromedriver.exe\", options=options)\n",
    "driver.get(url_air)"
   ]
  },
  {
   "cell_type": "code",
   "execution_count": 33,
   "metadata": {},
   "outputs": [],
   "source": [
    "# get html\n",
    "page_detailed = driver.page_source\n",
    "\n",
    "# close the driver\n",
    "driver.quit()\n",
    "\n",
    "# BS\n",
    "detail_soup = BeautifulSoup(page_detailed)"
   ]
  },
  {
   "cell_type": "code",
   "execution_count": null,
   "metadata": {},
   "outputs": [],
   "source": [
    "# listings = detail_soup.find_all('div', 'card  edit_hover_class')  \n",
    "\n",
    "listings = detail_soup.find_all('div', 'card-block')    # card-block\n",
    "\n",
    "#listings"
   ]
  },
  {
   "cell_type": "code",
   "execution_count": 12,
   "metadata": {},
   "outputs": [
    {
     "data": {
      "text/plain": [
       "1"
      ]
     },
     "execution_count": 12,
     "metadata": {},
     "output_type": "execute_result"
    }
   ],
   "source": [
    "#len(listings)"
   ]
  },
  {
   "cell_type": "markdown",
   "metadata": {},
   "source": [
    "## amenities"
   ]
  },
  {
   "cell_type": "code",
   "execution_count": 36,
   "metadata": {},
   "outputs": [],
   "source": [
    "a = detail_soup.find_all('div', 'icons flex justify-between mb-2')   "
   ]
  },
  {
   "cell_type": "code",
   "execution_count": 37,
   "metadata": {},
   "outputs": [
    {
     "data": {
      "text/plain": [
       "[<span>4</span>,\n",
       " <span>3</span>,\n",
       " <span>12</span>,\n",
       " <span>--</span>,\n",
       " <span>2</span>]"
      ]
     },
     "execution_count": 37,
     "metadata": {},
     "output_type": "execute_result"
    }
   ],
   "source": [
    "a[0].find_all('span')   #[0].get_text()"
   ]
  },
  {
   "cell_type": "code",
   "execution_count": 38,
   "metadata": {},
   "outputs": [
    {
     "data": {
      "text/plain": [
       "[<title>habitaciones</title>,\n",
       " <title>wc</title>,\n",
       " <title>cama</title>,\n",
       " <title>plazas</title>,\n",
       " <title>carro</title>]"
      ]
     },
     "execution_count": 38,
     "metadata": {},
     "output_type": "execute_result"
    }
   ],
   "source": [
    "a[0].find_all('title')"
   ]
  },
  {
   "cell_type": "code",
   "execution_count": 39,
   "metadata": {},
   "outputs": [
    {
     "data": {
      "text/plain": [
       "['4', '3', '12', '--', '2']"
      ]
     },
     "execution_count": 39,
     "metadata": {},
     "output_type": "execute_result"
    }
   ],
   "source": [
    "# sometimes there are more elements within\n",
    "[a.get_text() for a in a[0].find_all('span')]"
   ]
  },
  {
   "cell_type": "code",
   "execution_count": 40,
   "metadata": {},
   "outputs": [],
   "source": [
    "import json\n",
    "\n",
    "def extract_amenities(soup):\n",
    "    amenities = soup.find_all('div', {'class': 'icons flex justify-between mb-2'})\n",
    "    \n",
    "    amenities_dict = {}\n",
    "    for amenity in amenities:\n",
    "        header = amenity.find_all('title')\n",
    "        header = [v.find(text=True) for v in header]\n",
    "        values = amenity.find_all('span')\n",
    "        values = [v.find(text=True) for v in values]\n",
    "        \n",
    "        amenities_dict['amenity_' + str(header)] = values\n",
    "        \n",
    "    return json.dumps(amenities_dict)"
   ]
  },
  {
   "cell_type": "code",
   "execution_count": 41,
   "metadata": {},
   "outputs": [
    {
     "data": {
      "text/plain": [
       "'{\"amenity_[\\'habitaciones\\', \\'wc\\', \\'cama\\', \\'plazas\\', \\'carro\\']\": [\"5\", \"4\", \"14\", \"16\", \"4\"]}'"
      ]
     },
     "execution_count": 41,
     "metadata": {},
     "output_type": "execute_result"
    }
   ],
   "source": [
    "extract_amenities(detail_soup)"
   ]
  },
  {
   "cell_type": "markdown",
   "metadata": {},
   "source": [
    "## all features"
   ]
  },
  {
   "cell_type": "code",
   "execution_count": 7,
   "metadata": {},
   "outputs": [],
   "source": [
    "RULES_SEARCH_PAGE = {\n",
    "    'url': {'tag': 'a', 'get': 'href', 'order':-1},  \n",
    "    'name': {'tag': 'h4', 'class': 'truncate'},\n",
    "    'ubicacion': {'tag': 'p'},\n",
    "    'venta mensual': {'tag':'em','title':'Venta US$'},\n",
    "    'alquiler mensual': {'tag': 'em', 'title': 'Alquiler mensual US$','order':-1},\n",
    "    'likes': {'tag': 'small', 'class': 'id'}\n",
    "}\n",
    "\n",
    "\n",
    "# Third Generation :)\n",
    "def extract_element(listing_html, params):\n",
    "    # 1. Find the right tag\n",
    "    if 'class' in params:\n",
    "        elements_found = listing_html.find_all(params['tag'], params['class'])\n",
    "    else:\n",
    "        elements_found = listing_html.find_all(params['tag'])\n",
    "\n",
    "    # 2. Extract the right element\n",
    "    tag_order = params.get('order', 0)\n",
    "    element = elements_found[tag_order]\n",
    "        \n",
    "    # 3. Get text\n",
    "    if 'get' in params:\n",
    "        output = element.get(params['get'])\n",
    "    else:\n",
    "        output = element.get_text()\n",
    "\n",
    "    return output"
   ]
  },
  {
   "cell_type": "code",
   "execution_count": null,
   "metadata": {},
   "outputs": [],
   "source": [
    "for feature in RULES_SEARCH_PAGE:\n",
    "    try:\n",
    "        print(f\"{feature}: {extract_element(listings[0], RULES_SEARCH_PAGE[feature])}\")\n",
    "    except:\n",
    "        print(f\"{feature}: empty\")"
   ]
  },
  {
   "cell_type": "code",
   "execution_count": 66,
   "metadata": {},
   "outputs": [],
   "source": [
    "def extract_soup_js(listing_url, waiting_time=3):\n",
    "    \"\"\"Extracts HTML from JS pages: open, wait, click, wait, extract\"\"\"\n",
    "\n",
    "    options = Options()\n",
    "    options.add_argument('--headless')\n",
    "    options.add_argument('--blink-settings=imagesEnabled=false')\n",
    "    driver = webdriver.Chrome(executable_path=r\"C:\\chromedriver_win32\\chromedriver.exe\", options=options)\n",
    "\n",
    "    driver.get(listing_url)\n",
    "    time.sleep(waiting_time)\n",
    "\n",
    "    driver.execute_script(\"window.scrollTo(0, document.body.scrollHeight);\")\n",
    "    driver.execute_script(\"window.scrollTo(0, document.body.scrollHeight);\")\n",
    "        \n",
    "    detail_page = driver.page_source\n",
    "\n",
    "    driver.quit()\n",
    "\n",
    "    return BeautifulSoup(detail_page, features='html.parser')"
   ]
  },
  {
   "cell_type": "code",
   "execution_count": 54,
   "metadata": {},
   "outputs": [],
   "source": [
    "def extract_page_features(soup, rules):\n",
    "    features_dict = {}\n",
    "    for feature in rules:\n",
    "        try:\n",
    "            features_dict[feature] = extract_element(soup, rules[feature])\n",
    "        except:\n",
    "            features_dict[feature] = 'empty'\n",
    "    \n",
    "    return features_dict"
   ]
  },
  {
   "cell_type": "code",
   "execution_count": 56,
   "metadata": {},
   "outputs": [],
   "source": [
    "def build_urls(main_url, pages_total=3):               # # pages_found = 4\n",
    "    url_list = []\n",
    "    for i in range(pages_total):\n",
    "      if i==0:        \n",
    "        url_pagination = main_url                                                   # ver cómo cambia la pagina\n",
    "        url_list.append(url_pagination)\n",
    "      else:\n",
    "        offset = i+1\n",
    "        url_pagination = main_url + f'?page={offset}'                               # ver cómo cambia la pagina\n",
    "        url_list.append(url_pagination)\n",
    "    \n",
    "    return url_list"
   ]
  },
  {
   "cell_type": "code",
   "execution_count": 65,
   "metadata": {},
   "outputs": [
    {
     "data": {
      "text/plain": [
       "9"
      ]
     },
     "execution_count": 65,
     "metadata": {},
     "output_type": "execute_result"
    }
   ],
   "source": [
    "# build a list of URLs\n",
    "url_list = build_urls(url_air, pages_total=9)\n",
    "len(url_list)\n"
   ]
  },
  {
   "cell_type": "code",
   "execution_count": 67,
   "metadata": {},
   "outputs": [],
   "source": [
    "# Scrape pages\n",
    "\n",
    "def process_detail_page(url_list):\n",
    "        \n",
    "    features_list = []\n",
    "\n",
    "    for i in range(len(url_list)):\n",
    "\n",
    "        url1 = url_list[i]\n",
    "        soup = extract_soup_js(url1, waiting_time=3)\n",
    "\n",
    "        casas = soup.find_all('div', 'card-block')      # luego cambiar para varias casas\n",
    "\n",
    "        for listing in casas:\n",
    "            features = extract_page_features(listing, RULES_SEARCH_PAGE)\n",
    "            features['amenities'] = extract_amenities(listing)\n",
    "            features_list.append(features)\n",
    "\n",
    "    return features_list\n"
   ]
  },
  {
   "cell_type": "markdown",
   "metadata": {},
   "source": [
    "## pruebas"
   ]
  },
  {
   "cell_type": "code",
   "execution_count": null,
   "metadata": {},
   "outputs": [],
   "source": [
    "# try for one page\n",
    "#base_features = process_detail_page(url_list[:1])"
   ]
  },
  {
   "cell_type": "code",
   "execution_count": 49,
   "metadata": {},
   "outputs": [
    {
     "ename": "NameError",
     "evalue": "name 'base_features' is not defined",
     "output_type": "error",
     "traceback": [
      "\u001b[1;31m---------------------------------------------------------------------------\u001b[0m",
      "\u001b[1;31mNameError\u001b[0m                                 Traceback (most recent call last)",
      "\u001b[1;32m<ipython-input-49-29b067f8e29f>\u001b[0m in \u001b[0;36m<module>\u001b[1;34m\u001b[0m\n\u001b[1;32m----> 1\u001b[1;33m \u001b[0mbase_features\u001b[0m\u001b[1;33m\u001b[0m\u001b[0m\n\u001b[0m",
      "\u001b[1;31mNameError\u001b[0m: name 'base_features' is not defined"
     ]
    }
   ],
   "source": [
    "#base_features"
   ]
  },
  {
   "cell_type": "code",
   "execution_count": 19,
   "metadata": {},
   "outputs": [],
   "source": [
    "#soup = extract_soup_js(url_air, waiting_time=[3, 1])\n",
    "\n",
    "#ds = soup.find_all('div', 'card-block')\n",
    "#ds[3]\n"
   ]
  },
  {
   "cell_type": "markdown",
   "metadata": {},
   "source": [
    "# final"
   ]
  },
  {
   "cell_type": "code",
   "execution_count": 68,
   "metadata": {},
   "outputs": [],
   "source": [
    "# t0 = time.time()\n",
    "detail_features = process_detail_page(url_list)\n",
    "# print(time.time() - t0)"
   ]
  },
  {
   "cell_type": "code",
   "execution_count": 69,
   "metadata": {},
   "outputs": [
    {
     "name": "stdout",
     "output_type": "stream",
     "text": [
      "193 \n",
      " {'url': '/inmuebles/6849-casa-en-pulpos', 'name': 'Casa en Pulpos', 'ubicacion': 'Km 41 Pan. Sur Alq. $4,850 ', 'venta mensual': 'Alq. $4,850 ', 'alquiler mensual': 'Alq. $4,850 ', 'likes': '6849', 'amenities': '{\"amenity_[\\'habitaciones\\', \\'wc\\', \\'cama\\', \\'plazas\\', \\'carro\\']\": [\"5\", \"6\", \"6\", \"--\", \"4\"]}'}\n"
     ]
    }
   ],
   "source": [
    "print(len(detail_features),\"\\n\",detail_features[7])"
   ]
  },
  {
   "cell_type": "markdown",
   "metadata": {},
   "source": [
    "## cleaning"
   ]
  },
  {
   "cell_type": "code",
   "execution_count": 90,
   "metadata": {},
   "outputs": [
    {
     "data": {
      "text/plain": [
       "(193, 7)"
      ]
     },
     "execution_count": 90,
     "metadata": {},
     "output_type": "execute_result"
    }
   ],
   "source": [
    "df = pd.DataFrame.from_dict(detail_features)\n",
    "\n",
    "df.shape"
   ]
  },
  {
   "cell_type": "code",
   "execution_count": 91,
   "metadata": {},
   "outputs": [
    {
     "data": {
      "text/html": [
       "<div>\n",
       "<style scoped>\n",
       "    .dataframe tbody tr th:only-of-type {\n",
       "        vertical-align: middle;\n",
       "    }\n",
       "\n",
       "    .dataframe tbody tr th {\n",
       "        vertical-align: top;\n",
       "    }\n",
       "\n",
       "    .dataframe thead th {\n",
       "        text-align: right;\n",
       "    }\n",
       "</style>\n",
       "<table border=\"1\" class=\"dataframe\">\n",
       "  <thead>\n",
       "    <tr style=\"text-align: right;\">\n",
       "      <th></th>\n",
       "      <th>url</th>\n",
       "      <th>name</th>\n",
       "      <th>ubicacion</th>\n",
       "      <th>venta mensual</th>\n",
       "      <th>alquiler mensual</th>\n",
       "      <th>likes</th>\n",
       "      <th>amenities</th>\n",
       "    </tr>\n",
       "  </thead>\n",
       "  <tbody>\n",
       "    <tr>\n",
       "      <th>0</th>\n",
       "      <td>/inmuebles/1785-casa-en-chepeconde-mar-adentro</td>\n",
       "      <td>Casa en Chepeconde Mar Adentro</td>\n",
       "      <td>Km 120 Pan. Sur 3ª fila</td>\n",
       "      <td>empty</td>\n",
       "      <td>empty</td>\n",
       "      <td>1785</td>\n",
       "      <td>{\"amenity_['habitaciones', 'wc', 'cama', 'plaz...</td>\n",
       "    </tr>\n",
       "    <tr>\n",
       "      <th>1</th>\n",
       "      <td>/inmuebles/4376-casa-en-playa-chocaya</td>\n",
       "      <td>Casa en Playa Chocaya</td>\n",
       "      <td>Km 92 Pan. Sur</td>\n",
       "      <td>empty</td>\n",
       "      <td>empty</td>\n",
       "      <td>4376</td>\n",
       "      <td>{\"amenity_['habitaciones', 'wc', 'cama', 'plaz...</td>\n",
       "    </tr>\n",
       "    <tr>\n",
       "      <th>2</th>\n",
       "      <td>/inmuebles/761-casa-en-bujama</td>\n",
       "      <td>Casa en Bujama</td>\n",
       "      <td>Km 91 Pan. Sur 1ª fila Alq. $5,000</td>\n",
       "      <td>Alq. $5,000</td>\n",
       "      <td>Alq. $5,000</td>\n",
       "      <td>761</td>\n",
       "      <td>{\"amenity_['habitaciones', 'wc', 'cama', 'plaz...</td>\n",
       "    </tr>\n",
       "  </tbody>\n",
       "</table>\n",
       "</div>"
      ],
      "text/plain": [
       "                                              url  \\\n",
       "0  /inmuebles/1785-casa-en-chepeconde-mar-adentro   \n",
       "1           /inmuebles/4376-casa-en-playa-chocaya   \n",
       "2                   /inmuebles/761-casa-en-bujama   \n",
       "\n",
       "                              name                            ubicacion  \\\n",
       "0  Casa en Chepeconde Mar Adentro               Km 120 Pan. Sur 3ª fila   \n",
       "1           Casa en Playa Chocaya                        Km 92 Pan. Sur   \n",
       "2                   Casa en Bujama  Km 91 Pan. Sur 1ª fila Alq. $5,000    \n",
       "\n",
       "  venta mensual alquiler mensual likes  \\\n",
       "0         empty            empty  1785   \n",
       "1         empty            empty  4376   \n",
       "2  Alq. $5,000      Alq. $5,000    761   \n",
       "\n",
       "                                           amenities  \n",
       "0  {\"amenity_['habitaciones', 'wc', 'cama', 'plaz...  \n",
       "1  {\"amenity_['habitaciones', 'wc', 'cama', 'plaz...  \n",
       "2  {\"amenity_['habitaciones', 'wc', 'cama', 'plaz...  "
      ]
     },
     "execution_count": 91,
     "metadata": {},
     "output_type": "execute_result"
    }
   ],
   "source": [
    "df.head(3)"
   ]
  },
  {
   "cell_type": "code",
   "execution_count": 92,
   "metadata": {},
   "outputs": [],
   "source": [
    "import re\n",
    "\n",
    "def find_number(text):\n",
    "    num = re.findall(r'[0-9]+',text)\n",
    "    return \" \".join(num)\n",
    "\n",
    "def find_text(text):\n",
    "    num = re.findall(r'[a-zA-Z ]+',text)\n",
    "    return \" \".join(num)\n",
    "\n",
    "\n",
    "df['price_num']=df['alquiler mensual'].apply(lambda x: find_number(x))\n",
    "\n",
    "\n",
    "df['price_text']=df['alquiler mensual'].apply(lambda x: find_text(x))\n",
    "\n",
    "df[['uno','dos']] = df['amenities'].str.split(\":\",expand=True)\n",
    "# https://stackoverflow.com/questions/37333299/splitting-a-pandas-dataframe-column-by-delimiter\n",
    "df[['rooms','baños','camas','personas','autos']] = df['dos'].str.split(\",\",expand=True)\n",
    "\n",
    "#https://stackoverflow.com/questions/13411544/delete-a-column-from-a-pandas-dataframe\n",
    "df.drop(['uno', 'dos','amenities'], axis=1, inplace=True)\n",
    "\n",
    "\n",
    "df['rooms']=df['rooms'].apply(lambda x: find_number(x))\n",
    "df['baños']=df['baños'].apply(lambda x: find_number(x))\n",
    "df['camas']=df['camas'].apply(lambda x: find_number(x))\n",
    "df['personas']=df['personas'].apply(lambda x: find_number(x))\n",
    "df['autos']=df['autos'].apply(lambda x: find_number(x))\n",
    "\n",
    "\n",
    "df['url_casa'] = 'https://casadeplaya.com' + df['url']\n"
   ]
  },
  {
   "cell_type": "code",
   "execution_count": 93,
   "metadata": {},
   "outputs": [
    {
     "data": {
      "text/html": [
       "<div>\n",
       "<style scoped>\n",
       "    .dataframe tbody tr th:only-of-type {\n",
       "        vertical-align: middle;\n",
       "    }\n",
       "\n",
       "    .dataframe tbody tr th {\n",
       "        vertical-align: top;\n",
       "    }\n",
       "\n",
       "    .dataframe thead th {\n",
       "        text-align: right;\n",
       "    }\n",
       "</style>\n",
       "<table border=\"1\" class=\"dataframe\">\n",
       "  <thead>\n",
       "    <tr style=\"text-align: right;\">\n",
       "      <th></th>\n",
       "      <th>url</th>\n",
       "      <th>name</th>\n",
       "      <th>ubicacion</th>\n",
       "      <th>venta mensual</th>\n",
       "      <th>alquiler mensual</th>\n",
       "      <th>likes</th>\n",
       "      <th>price_num</th>\n",
       "      <th>price_text</th>\n",
       "      <th>rooms</th>\n",
       "      <th>baños</th>\n",
       "      <th>camas</th>\n",
       "      <th>personas</th>\n",
       "      <th>autos</th>\n",
       "      <th>url_casa</th>\n",
       "    </tr>\n",
       "  </thead>\n",
       "  <tbody>\n",
       "    <tr>\n",
       "      <th>0</th>\n",
       "      <td>/inmuebles/1785-casa-en-chepeconde-mar-adentro</td>\n",
       "      <td>Casa en Chepeconde Mar Adentro</td>\n",
       "      <td>Km 120 Pan. Sur 3ª fila</td>\n",
       "      <td>empty</td>\n",
       "      <td>empty</td>\n",
       "      <td>1785</td>\n",
       "      <td></td>\n",
       "      <td>empty</td>\n",
       "      <td>4</td>\n",
       "      <td>3</td>\n",
       "      <td>12</td>\n",
       "      <td></td>\n",
       "      <td>2</td>\n",
       "      <td>https://casadeplaya.com/inmuebles/1785-casa-en...</td>\n",
       "    </tr>\n",
       "    <tr>\n",
       "      <th>1</th>\n",
       "      <td>/inmuebles/4376-casa-en-playa-chocaya</td>\n",
       "      <td>Casa en Playa Chocaya</td>\n",
       "      <td>Km 92 Pan. Sur</td>\n",
       "      <td>empty</td>\n",
       "      <td>empty</td>\n",
       "      <td>4376</td>\n",
       "      <td></td>\n",
       "      <td>empty</td>\n",
       "      <td>5</td>\n",
       "      <td>5</td>\n",
       "      <td>15</td>\n",
       "      <td>16</td>\n",
       "      <td>2</td>\n",
       "      <td>https://casadeplaya.com/inmuebles/4376-casa-en...</td>\n",
       "    </tr>\n",
       "  </tbody>\n",
       "</table>\n",
       "</div>"
      ],
      "text/plain": [
       "                                              url  \\\n",
       "0  /inmuebles/1785-casa-en-chepeconde-mar-adentro   \n",
       "1           /inmuebles/4376-casa-en-playa-chocaya   \n",
       "\n",
       "                              name                ubicacion venta mensual  \\\n",
       "0  Casa en Chepeconde Mar Adentro   Km 120 Pan. Sur 3ª fila         empty   \n",
       "1           Casa en Playa Chocaya            Km 92 Pan. Sur         empty   \n",
       "\n",
       "  alquiler mensual likes price_num price_text rooms baños camas personas  \\\n",
       "0            empty  1785                empty     4     3    12            \n",
       "1            empty  4376                empty     5     5    15       16   \n",
       "\n",
       "  autos                                           url_casa  \n",
       "0     2  https://casadeplaya.com/inmuebles/1785-casa-en...  \n",
       "1     2  https://casadeplaya.com/inmuebles/4376-casa-en...  "
      ]
     },
     "execution_count": 93,
     "metadata": {},
     "output_type": "execute_result"
    }
   ],
   "source": [
    "df.head(2)"
   ]
  },
  {
   "cell_type": "code",
   "execution_count": 95,
   "metadata": {},
   "outputs": [],
   "source": [
    "import openpyxl\n",
    "\n",
    "df.to_excel(r\"C:\\Users\\F_GODOY\\Desktop\\Proyectos_analytics\\Scraping-BC\\scraping_casas_playa2.xlsx\", index = False)"
   ]
  }
 ],
 "metadata": {
  "interpreter": {
   "hash": "4624fc293a9ad1bd2ab4f2b60a9e4cde85ceda4c35ee08316d83f5b18f57e725"
  },
  "kernelspec": {
   "display_name": "Python 3.6.5 64-bit ('venv-scrap': venv)",
   "name": "python3"
  },
  "language_info": {
   "codemirror_mode": {
    "name": "ipython",
    "version": 3
   },
   "file_extension": ".py",
   "mimetype": "text/x-python",
   "name": "python",
   "nbconvert_exporter": "python",
   "pygments_lexer": "ipython3",
   "version": "3.6.5"
  },
  "orig_nbformat": 4
 },
 "nbformat": 4,
 "nbformat_minor": 2
}
